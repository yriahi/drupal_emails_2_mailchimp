{
 "cells": [
  {
   "cell_type": "code",
   "execution_count": 42,
   "metadata": {},
   "outputs": [],
   "source": [
    "import os\n",
    "import requests\n",
    "from requests.auth import HTTPBasicAuth\n",
    "import json\n",
    "from hashlib import md5\n",
    "\n",
    "# @TODO get api key from environment var\n",
    "# @TODO change path to production drupal path\n",
    "\n",
    "# mailchimp api key\n",
    "mailchimp_api_key = \"0f8b6badf9df7076ad26563ebd6b2761-us2\"\n",
    "# note how the api credentials end with \"us2\", the data center of your accout\n",
    "data_center = mailchimp_api_key.split(\"-\")[1]\n",
    "# mailchimp list id\n",
    "list_id = \"cdb710ff47\"\n",
    "# http headers\n",
    "headers = {'content-type': 'application/json'}\n",
    "# HTTPBasicAuth credentials\n",
    "auth = HTTPBasicAuth('apikey', mailchimp_api_key)\n",
    "\n",
    "drupal_emails = []\n",
    "mailchip_emails = []\n",
    "\n",
    "# get user emails from drupal site\n",
    "def drupal_get_emails():\n",
    "    # get list of emails with drush sqlq '' from a drupal site\n",
    "    raw_emails = os.popen(\"drush -r /var/www/html/massgov.test/docroot sqlq 'select mail from users_field_data'\").read()\n",
    "    emails = raw_emails.split(\"\\n\")\n",
    "    for email_address in emails:\n",
    "        if email_address and \"@\" in email_address and \"localhost\" not in email_address:\n",
    "            email = email_address.lower()\n",
    "            drupal_emails.append(email)\n",
    "\n",
    "# get members' emails from mailchimp list\n",
    "def mailchimp_get_emails(data_center, list_id, count, mailchimp_api_key):\n",
    "    r = requests.get(\"https://{}.api.mailchimp.com/3.0/lists/{}/members/?offset=0&count={}\".format(data_center, list_id, count),\\\n",
    "                     auth=HTTPBasicAuth('apikey', '{}'.format(mailchimp_api_key)))\n",
    "\n",
    "    # feed returned data to json\n",
    "    raw_data = r.text\n",
    "    response_data = json.loads(raw_data)\n",
    "\n",
    "    # total members\n",
    "    total_members = response_data[\"total_items\"]\n",
    "\n",
    "    # members list\n",
    "    list_members = response_data[\"members\"]\n",
    "\n",
    "    for email in list_members:\n",
    "        email = email[\"email_address\"]\n",
    "        mailchip_emails.append(email)\n",
    "\n",
    "# get members' emails from mailchimp list\n",
    "def mailchimp_delete_emails(data_center, list_id, email):\n",
    "    # create md5 from email.\n",
    "    # md5 value is also available via mailchip api\n",
    "    # for simplicity we generate here\n",
    "    m = md5()\n",
    "    m.update(email.encode())\n",
    "    email_hash = m.hexdigest()\n",
    "    r = requests.delete(\"https://{}.api.mailchimp.com/3.0/lists/{}/members/{}\".format(data_center, list_id, email_hash),\\\n",
    "                     auth=HTTPBasicAuth('apikey', '{}'.format(mailchimp_api_key)))\n",
    "\n",
    "    if not r.status_code == 204:\n",
    "        print(\"Failed to remove '{}' from target Mailchimp list.\".format(email))\n",
    "        print(r.status_code, r.request)\n",
    "\n",
    "def mailchimp_post_emails(data_center, list_id, email):\n",
    "    # api endpoint for adding users to a mailchimp list\n",
    "    # note how url starts with \"us2\", the data center of your accout\n",
    "    url = \"https://{}.api.mailchimp.com/3.0/lists/{}/members\".format(data_center, list_id)\n",
    "    # json payload\n",
    "    payload = {'email_address': email, 'status':'subscribed'}\n",
    "    # payload = {'email_address':email, 'status':'subscribed', 'merge_fields':{ 'FNAME':'John', 'LNAME':'Doe' }}\n",
    "    # post json data to api endpoint\n",
    "    resource = requests.post(url, auth=auth, headers=headers, data=json.dumps(payload))\n",
    "    # method verb cleanup\n",
    "    method = str(resource.request).split(\" \")[1].replace(\">\", \"\")\n",
    "    # print to screen\n",
    "    print(payload[\"email_address\"], method, resource.status_code)\n",
    "\n",
    "# get drupal users emails\n",
    "drupal_get_emails()\n",
    "\n",
    "# post drupal emails\n",
    "for email in drupal_emails:\n",
    "    mailchimp_post_emails(data_center, list_id, email)\n",
    "\n",
    "#\n",
    "# compare and delete email in case a user is no longer an author\n",
    "#\n",
    "# # get email from mailchimp\n",
    "# mc_get_emails(data_center, list_id, \"10\", mailchimp_api_key)\n",
    "#\n",
    "# # delete email from mailchimp if not in drupal\n",
    "# mc_delete_emails(data_center, list_id, email)\n",
    "#\n",
    "# # get difference between 2 listscycle\n",
    "# not_in_drupal_set = set(mailchip_emails) - set(drupal_emails)\n",
    "# not_in_drupal = list(not_in_drupal_set)\n"
   ]
  },
  {
   "cell_type": "code",
   "execution_count": 44,
   "metadata": {},
   "outputs": [
    {
     "name": "stdout",
     "output_type": "stream",
     "text": [
      "{'members': [{'email_address': 'youssef.riahi@mass.gov'}, {'email_address': 'melissa.rossi@mass.gov'}, {'email_address': 'andrew.larrimore@mass.gov'}, {'email_address': 'linh.u.tran@mass.gov'}, {'email_address': 'carolyn.bowes@mass.gov'}, {'email_address': 'fiona.molloy@mass.gov'}, {'email_address': 'stephanie.lewis@mass.gov'}, {'email_address': 'nicola.fairhead@mass.gov'}, {'email_address': 'andrew.larrimore@state.ma.us'}, {'email_address': 'andrew.larrimore@massmail.state.ma.us'}, {'email_address': 'giles@tech-tamer.com'}, {'email_address': 'lisa.mirabile@mass.gov'}, {'email_address': 'jessica.constantine@mass.gov'}, {'email_address': 'isaac.chansky@mass.gov'}, {'email_address': 'jonathan.dallas@velir.com'}, {'email_address': 'michelle.ciccarelli@mass.gov'}, {'email_address': 'sam.mathius@mass.gov'}, {'email_address': 'meghan.davis@mass.gov'}, {'email_address': 'rob.powell@mass.gov'}, {'email_address': 'christine.flynn@mass.gov'}, {'email_address': 'wertz@palantir.net'}, {'email_address': 'yukiko.gannett@mass.gov'}, {'email_address': 'allen-black@palantir.net'}, {'email_address': 'joseph.galluccio@state.ma.us'}, {'email_address': 'stephanie.allen@velir.com'}, {'email_address': 'bentham@palantir.net'}, {'email_address': 'lindsey.wagner@mass.gov'}, {'email_address': 'striedinger@palantir.net'}, {'email_address': 'adam.roberts@mass.gov'}, {'email_address': 'bryan.hirsch@mass.gov'}, {'email_address': 'nedret.sahin@velir.com'}, {'email_address': 'jason.stanbery@velir.com'}, {'email_address': 'sarena.douglass@velir.com'}, {'email_address': 'connor.t.mckay@mass.gov'}, {'email_address': 'kristen.weber@mass.gov'}, {'email_address': 'harlan.weber@mass.gov'}, {'email_address': 'sienna.svob@state.ma.us'}, {'email_address': 'jacqueline.ford@mass.gov'}, {'email_address': 'lynne.c.kelly@massmail.state.ma.us'}, {'email_address': 'ryan.boehm@massmail.state.ma.us'}, {'email_address': 'nancy.p.cox@massmail.state.ma.us'}, {'email_address': 'david.giannotti@massmail.state.ma.us'}, {'email_address': 'kevin.m.buckley@massmail.state.ma.us'}, {'email_address': 'aaron.kravitz@massmail.state.ma.us'}, {'email_address': 'laurie.pinkham@massmail.state.ma.us'}, {'email_address': 'dan.truong@state.ma.us'}, {'email_address': 'matthew.d.naughton@massmail.state.ma.us'}, {'email_address': 'giacomo.bagarella@massmail.state.ma.us'}, {'email_address': 'nancy.decker@velir.com'}, {'email_address': 'christine.bath@mass.gov'}, {'email_address': 'anne.donovan@state.ma.us'}, {'email_address': 'adrian.burrowes@sao.state.ma.us'}, {'email_address': 'arthur.r.chidlovski@state.ma.us'}, {'email_address': 'aleda.freeman@state.ma.us'}, {'email_address': 'kanter@dor.state.ma.us'}, {'email_address': 'sweeneya@dor.state.ma.us'}, {'email_address': 'amanda.veinotte@state.ma.us'}, {'email_address': 'bryce.crocker@state.ma.us'}, {'email_address': 'robert.kearney@state.ma.us'}, {'email_address': 'barbara.moran@state.ma.us'}, {'email_address': 'bridget.munster@state.ma.us'}, {'email_address': 'cjbowes13@gmail.com'}, {'email_address': 'benjamin.polatin@massmail.state.ma.us'}, {'email_address': 'bernard.n.waxman@state.ma.us'}, {'email_address': 'claire.hester@state.ma.us'}, {'email_address': 'cathy.jackson@state.ma.us'}, {'email_address': 'cesar.lastra@state.ma.us'}, {'email_address': 'charles.pearce@massmail.state.ma.us'}, {'email_address': 'corey.r.pilz@state.ma.us'}, {'email_address': 'debbie.belliveau@massmail.state.ma.us'}, {'email_address': 'deidre.travis-brown@massmail.state.ma.us'}, {'email_address': 'david.falkenstein@massmail.state.ma.us'}, {'email_address': 'david.kimball@state.ma.us'}, {'email_address': 'daniel.g.pierce@massmail.state.ma.us'}, {'email_address': 'dana.stancill@state.ma.us'}, {'email_address': 'elaine.brewer@state.ma.us'}, {'email_address': 'eva.yutkinskennedy@massmail.state.ma.us'}, {'email_address': 'imad.sandakly@massmail.state.ma.us'}, {'email_address': 'isohail@tre.state.ma.us'}, {'email_address': 'isaac.wilhelm@sjc.state.ma.us'}, {'email_address': 'joseph.ferson@state.ma.us'}, {'email_address': 'jacqueline.m.horigan@state.ma.us'}, {'email_address': 'john.powers@massmail.state.ma.us'}, {'email_address': 'judith.saint-amour@massmail.state.ma.us'}, {'email_address': 'kathy.devine@state.ma.us'}, {'email_address': 'kevin.faria@state.ma.us'}, {'email_address': 'kevin.lopes@state.ma.us'}, {'email_address': 'karin.pisiewski@state.ma.us'}, {'email_address': 'kimberly.spencer@state.ma.us'}, {'email_address': 'kate.watkins@state.ma.us'}, {'email_address': 'karl.woo@state.ma.us'}, {'email_address': 'laura.colby@jud.state.ma.us'}, {'email_address': 'lauren.defilippo@sao.state.ma.us'}, {'email_address': 'lisa.gilgan@massmail.state.ma.us'}, {'email_address': 'krzywickil@dor.state.ma.us'}, {'email_address': 'leslie.lovett@trb.state.ma.us'}, {'email_address': 'linda.mahajan@state.ma.us'}, {'email_address': 'mark.costello@state.ma.us'}, {'email_address': 'marisa.delapaz@massmail.state.ma.us'}, {'email_address': 'maheswari.govindarajan@state.ma.us'}, {'email_address': 'michael.gillis@state.ma.us'}, {'email_address': 'mary.kolesar@massmail.state.ma.us'}, {'email_address': 'madchen.makara@jud.state.ma.us'}, {'email_address': 'megan.sampson@state.ma.us'}, {'email_address': 'mavis.smith@massmail.state.ma.us'}, {'email_address': 'maxene.spolidoro@state.ma.us'}, {'email_address': 'martha.waldron@state.ma.us'}, {'email_address': 'michael.wessler@sao.state.ma.us'}, {'email_address': 'noel.brogna@state.ma.us'}, {'email_address': 'nicholas.cannata@massmail.state.ma.us'}, {'email_address': 'nadunker@per.state.ma.us'}, {'email_address': 'nick.olivieri@state.ma.us'}, {'email_address': 'natalie.wadzinski@massmail.state.ma.us'}, {'email_address': 'prudence.lange@state.ma.us'}, {'email_address': 'pam.macleod@state.ma.us'}, {'email_address': 'paul.nutting@mass.gov'}, {'email_address': 'olejnikp@dor.state.ma.us'}, {'email_address': 'pam.sousa@state.ma.us'}, {'email_address': 'ruthy.barros@state.ma.us'}, {'email_address': 'rita.dinunzio@massmail.state.ma.us'}, {'email_address': 'robin.lacey@state.ma.us'}, {'email_address': 'roberto.melendez@state.ma.us'}, {'email_address': 'ronald.mietzsch@massmail.state.ma.us'}, {'email_address': 'rebecca.neal2@massmail.state.ma.us'}, {'email_address': 'ronnie.zuniga@state.ma.us'}, {'email_address': 'sara.clark@state.ma.us'}, {'email_address': 'shannon.desmond@state.ma.us'}, {'email_address': 'shawna.hawksley@massmail.state.ma.us'}, {'email_address': 'sarah.mostafa@state.ma.us'}, {'email_address': 'suzzette.waters@state.ma.us'}, {'email_address': 'tejal.zinzuvadia@state.ma.us'}, {'email_address': 'veronica.gross@state.ma.us'}, {'email_address': 'william.culbert@trb.state.ma.us'}, {'email_address': 'william.sullivan@state.ma.us'}, {'email_address': 'yvette.begue@state.ma.us'}, {'email_address': 'mdlitvack@per.state.ma.us'}, {'email_address': 'dan.levy@il.ey.com'}, {'email_address': 'lisa.mirabile@massmail.state.ma.us'}, {'email_address': 'leroux@palantir.net'}, {'email_address': 'adi.aviv@il.ey.com'}, {'email_address': 'idan.levy1@il.ey.com'}, {'email_address': 'sagi.cohen@il.ey.com'}, {'email_address': 'tom.sollel@il.ey.com'}, {'email_address': 'kseniya.slobodyan@il.ey.com'}, {'email_address': 'argenis.sosa@state.ma.us'}, {'email_address': 'pdaddona@tre.state.ma.us'}, {'email_address': 'hwalsh@tre.state.ma.us'}, {'email_address': 'heather.west@state.ma.us'}, {'email_address': 'rachael.lee@state.ma.us'}, {'email_address': 'suzzanne.pierre@state.ma.us'}, {'email_address': 'marybeth.groff@massmail.state.ma.us'}, {'email_address': 'nani.assefa@state.ma.us'}, {'email_address': 'sungjun.park@state.ma.us'}, {'email_address': 'jennifer.bush@state.ma.us'}, {'email_address': 'marie.orlando@massmail.state.ma.us'}, {'email_address': 'vitalina.lopes@state.ma.us'}, {'email_address': 'jeff.timperi@state.ma.us'}, {'email_address': 'susan.theil@trb.state.ma.us'}, {'email_address': 'thomas.higgins@state.ma.us'}, {'email_address': 'kristen.hibbard@state.ma.us'}, {'email_address': 'jennifer.lavin@massmail.state.ma.us'}, {'email_address': 'shammar@tre.state.ma.us'}, {'email_address': 'dkeene@tre.state.ma.us'}, {'email_address': 'alarrimore@gmail.com'}, {'email_address': 'ifebres@tre.state.ma.us'}, {'email_address': 'ashley.m.ferrer@state.ma.us'}, {'email_address': 'alyssa.nelson@massmail.state.ma.us'}, {'email_address': 'geneen.bartley@state.ma.us'}, {'email_address': 'jonathan.fox@massmail.state.ma.us'}, {'email_address': 'michael.w.orcutt@state.ma.us'}, {'email_address': 'gina.hudson@state.ma.us'}, {'email_address': 'jordan.maynard@state.ma.us'}, {'email_address': 'janelle.hardiman@state.ma.us'}, {'email_address': 'neha.hamzah@massmail.state.ma.us'}, {'email_address': 'matthew.moran@state.ma.us'}, {'email_address': 'laurie.caruso@state.ma.us'}, {'email_address': 'samantha.kaufman@massmail.state.ma.us'}, {'email_address': 'angelica.aguirre@umassmed.edu'}, {'email_address': 'prassede.vella@state.ma.us'}, {'email_address': 'daniela.trammell@state.ma.us'}, {'email_address': 'kathleen.goodberlet@state.ma.us'}, {'email_address': 'margaret.sullivan@massmail.state.ma.us'}, {'email_address': 'kerry.bonner@state.ma.us'}, {'email_address': 'ed.srednicki@state.ma.us'}, {'email_address': 'jennifer.longsdorf@state.ma.us'}, {'email_address': 'elizabeth.leaman@state.ma.us'}, {'email_address': 'mark.g.miller@state.ma.us'}, {'email_address': 'latisha.simms@state.ma.us'}, {'email_address': 'deborah.harrison@state.ma.us'}, {'email_address': 'ayanna.clark@massmail.state.ma.us'}, {'email_address': 'christopher.besse@state.ma.us'}, {'email_address': 'lynda.kearns@massmail.state.ma.us'}, {'email_address': 'tio.yano@state.ma.us'}, {'email_address': 'jon.dearborn@state.ma.us'}, {'email_address': 'laura.maul@state.ma.us'}, {'email_address': 'rebecca.burnham@state.ma.us'}, {'email_address': 'sandra.rabb@massmail.state.ma.us'}, {'email_address': 'daniel.koch@state.ma.us'}, {'email_address': 'julianne.ture@massmail.state.ma.us'}, {'email_address': 'laurie.e.weisman@state.ma.us'}, {'email_address': 'kenneth.nyberg@state.ma.us'}, {'email_address': 'emily.stolarski@state.ma.us'}, {'email_address': 'nicole.mcsweeney@state.ma.us'}, {'email_address': 'adrian.servetnick@massmail.state.ma.us'}, {'email_address': 'story.reed@state.ma.us'}, {'email_address': 'samantha.n.andrews@state.ma.us'}, {'email_address': 'cara.mottola@state.ma.us'}, {'email_address': 'jennifer.mieth@massmail.state.ma.us'}, {'email_address': 'lisa.mirabile@state.ma.us'}, {'email_address': 'lmirabile@tech-tamer.com'}, {'email_address': 'roy.mckinney@sao.state.ma.us'}, {'email_address': 'fmcnealy@tre.state.ma.us'}, {'email_address': 'gho@tre.state.ma.us'}, {'email_address': 'wlin@tre.state.ma.us'}, {'email_address': 'susan.morrison@state.ma.us'}, {'email_address': 'kristin.diamond@dot.state.ma.us'}, {'email_address': 'cummingse@dor.state.ma.us'}, {'email_address': 'taneekah.johnson@state.ma.us'}, {'email_address': 'kristine.cavicchi@state.ma.us'}, {'email_address': 'birabwa.kajubi@state.ma.us'}, {'email_address': 'martha.ventura@umassmed.edu'}, {'email_address': 'andrew.carr@state.ma.us'}, {'email_address': 'joseph.tower@massmail.state.ma.us'}, {'email_address': 'erin.flaherty@state.ma.us'}, {'email_address': 'christopher.bowman@state.ma.us'}, {'email_address': 'richard.leblanc@state.ma.us'}, {'email_address': 'joao.tavares@state.ma.us'}, {'email_address': 'maggie.cohen@state.ma.us'}, {'email_address': 'john.jacob@state.ma.us'}, {'email_address': 'thomas.mills@state.ma.us'}, {'email_address': 'malcolm.crystal@state.ma.us'}, {'email_address': 'mary.cardwell@state.ma.us'}, {'email_address': 'jennifer.brais@state.ma.us'}, {'email_address': 'rthomas@tre.state.ma.us'}, {'email_address': 'lisa.barstow@state.ma.us'}, {'email_address': 'grace.byrd@massmail.state.ma.us'}, {'email_address': 'puccinid@dor.state.ma.us'}, {'email_address': 'sherri.sore@massmail.state.ma.us'}, {'email_address': 'rick.vogel@state.ma.us'}, {'email_address': 'cristina.lucin@massmail.state.ma.us'}, {'email_address': 'debby.briggs@state.ma.us'}, {'email_address': 'shaniel.walker@state.ma.us'}, {'email_address': 'brenna.chase@massmail.state.ma.us'}, {'email_address': 'scott.olsen@state.ma.us'}, {'email_address': 'edward.weatherhead@state.ma.us'}, {'email_address': 'kerry.flood@state.ma.us'}, {'email_address': 'eddie.cheung@state.ma.us'}, {'email_address': 'julie.martin@state.ma.us'}, {'email_address': 'lucyus.fevrier@state.ma.us'}, {'email_address': 'richard.wentworth@state.ma.us'}, {'email_address': 'alexander.gillman@state.ma.us'}, {'email_address': 'sandra.flanagan@massmail.state.ma.us'}, {'email_address': 'paul.bologna@state.ma.us'}, {'email_address': 'kristen.sullivan@massmail.state.ma.us'}, {'email_address': 'gina.testa@massmail.state.ma.us'}, {'email_address': 'andrew.bagdonas@state.ma.us'}, {'email_address': 'kellie.ingram@state.ma.us'}, {'email_address': 'douglas.shafner@state.ma.us'}, {'email_address': 'james.a.mannion@state.ma.us'}, {'email_address': 'sue.kane@umassmed.edu'}, {'email_address': 'christine.cullen@massmail.state.ma.us'}, {'email_address': 'christine.a.bailey@massmail.state.ma.us'}, {'email_address': 'deborah.raymond@umassmed.edu'}, {'email_address': 'alyssa.sciuto@state.ma.us'}, {'email_address': 'ryan.sarasin@state.ma.us'}, {'email_address': 'kathleen.colbert@state.ma.us'}, {'email_address': 'norma.marquez@state.ma.us'}, {'email_address': 'taber.pope@state.ma.us'}, {'email_address': 'nataliya.urciuoli@state.ma.us'}, {'email_address': 'andrea.grossman@massmail.state.ma.us'}, {'email_address': 'jennifer.cunningham@state.ma.us'}, {'email_address': 'betzaida.herrera@massmail.state.ma.us'}, {'email_address': 'cliff.goodband@massmail.state.ma.us'}, {'email_address': 'annette.v.peele@state.ma.us'}, {'email_address': 'trainorc@dor.state.ma.us'}, {'email_address': 'judith.carlstrom@state.ma.us'}, {'email_address': 'emily.snyder@state.ma.us'}, {'email_address': 'james.poplasky1@massmail.state.ma.us'}, {'email_address': 'carrie.kimball-monahan@state.ma.us'}, {'email_address': 'robert.mayer@state.ma.us'}, {'email_address': 'maria.batista@dot.state.ma.us'}, {'email_address': 'james.e.brooks@state.ma.us'}, {'email_address': 'cara.savelli@massmail.state.ma.us'}, {'email_address': 'ana.rosas@massmail.state.ma.us'}, {'email_address': 'hneff@cjc.state.ma.us'}, {'email_address': 'foxjov@dor.state.ma.us'}, {'email_address': 'michelle.hillman@state.ma.us'}, {'email_address': 'raul.a.delgado@state.ma.us'}, {'email_address': 'anna.zalewski@mass.mail.state.ma.us'}, {'email_address': 'wayne.levy@state.ma.us'}, {'email_address': 'bob.mcmahan@state.ma.us'}, {'email_address': 'mark.a.steffen@state.ma.us'}, {'email_address': 'abertrand@tre.state.ma.us'}, {'email_address': 'todd.danos@state.ma.us'}, {'email_address': 'scroteau@tre.state.ma.us'}, {'email_address': 'silvia.mejia@state.ma.us'}, {'email_address': 'dong.zou@state.ma.us'}, {'email_address': 'medes.diaz@state.ma.us'}, {'email_address': 'jeff.dougan@state.ma.us'}, {'email_address': 'morgane.treanton@state.ma.us'}, {'email_address': 'michael.flanagan@massmail.state.ma.us'}, {'email_address': 'alexandria.gullage@mail.state.ma.us'}, {'email_address': 'susan.wunderlee@state.ma.us'}, {'email_address': 'maia.rodriguez-semp@state.ma.us'}, {'email_address': 'ellen.mador@state.ma.us'}, {'email_address': 'michael.trust@mass.gov'}, {'email_address': 'andrew.carleen@massmail.state.ma.us'}, {'email_address': 'anthony.abruzese@state.ma.us'}, {'email_address': 'h.harrison@massmail.state.ma.us'}, {'email_address': 'alison.scher@massmail.state.ma.us'}, {'email_address': 'tracey.anderson@state.ma.us'}, {'email_address': 'kristin.kunes@massmail.state.ma.us'}, {'email_address': 'matthew.s.burke@massmail.state.ma.us'}, {'email_address': 'caroline.graham@massmail.state.ma.us'}, {'email_address': 'deborah.mendoza-lochrie@state.ma.us'}, {'email_address': 'dan.deleo@state.ma.us'}, {'email_address': 'byrwa@palantir.net'}, {'email_address': 'kelly.zeeh@state.ma.us'}, {'email_address': 'peggy.kraft@state.ma.us'}, {'email_address': 'imaiorino@tre.state.ma.us'}, {'email_address': 'james.f.burke@massmail.state.ma.us'}, {'email_address': 'venus.wheeler@state.ma.us'}, {'email_address': 'aurora.wilber@massmail.state.ma.us'}, {'email_address': 'zachary.t.fyfe@mass.gov'}, {'email_address': 'daniel.halton@mass.gov'}, {'email_address': 'jennifer.grigoraitis@state.ma.us'}, {'email_address': 'matthew.dicato@massmail.state.ma.us'}, {'email_address': 'danielle.j.giovanni@state.ma.us'}, {'email_address': 'herb.sammons@massmail.state.ma.us'}, {'email_address': 'kiarash.ghasemi@massmail.state.ma.us'}, {'email_address': 'mark.wert@state.ma.us'}, {'email_address': \"courtney.o'brien-driscoll@state.ma.us\"}, {'email_address': 'bongani.jeranyama@state.ma.us'}, {'email_address': 'heather.rowe@state.ma.us'}, {'email_address': 'alicia.curran@sao.state.ma.us'}, {'email_address': 'tim.cronin@massmail.state.ma.us'}, {'email_address': 'estelle.gifford@state.ma.us'}, {'email_address': 'kelly.a.mercer@state.ma.us'}, {'email_address': 'michael.eggar@massmail.state.ma.us'}, {'email_address': 'elizabeth.h.como@state.ma.us'}, {'email_address': 'charlene.mcdonald@massmail.state.ma.us'}, {'email_address': 'emily.luksha@massmail.state.ma.us'}, {'email_address': 'julia.gutierrez@massmail.state.ma.us'}, {'email_address': 'cole.boskey@mass.gov'}, {'email_address': 'holly.stclair@mass.gov'}, {'email_address': 'kristin.karl-carnahan@massmail.state.ma.us'}, {'email_address': 'dennis.tsai@mass.gov'}, {'email_address': 'marie.meibaum@massmail.state.ma.u'}, {'email_address': 'julie.weinstein@massmail.state.ma.us'}, {'email_address': 'harrison.breault@state.ma.us'}, {'email_address': 'michael.aiello@massmail.state.ma.us'}, {'email_address': 'katharine.allen@mass.gov'}, {'email_address': 'akash.altman@massmail.state.ma.us'}, {'email_address': 'benjamin.bossi@mass.gov'}, {'email_address': 'bayley.carter2@massmail.state.ma.us'}, {'email_address': 'brittany.chang@mass.gov'}, {'email_address': 'brian.cole@mass.gov'}, {'email_address': 'tessa.croker@mass.gov'}, {'email_address': 'greg.desrosiers@mass.gov'}, {'email_address': 'nicholas.frazier@mass.gov'}, {'email_address': 'trisha.guzman@massmail.state.ma.us'}, {'email_address': 'eleni.hatzidis@massmail.state.ma.us'}, {'email_address': 'michelle.leonard@massmail.state.ma.us'}, {'email_address': 'brenna.lopes@mass.gov'}, {'email_address': 'eric.lund@mass.gov'}, {'email_address': 'kira.macauley@massmail.state.ma.us'}, {'email_address': 'robert.k.malinn@massmail.state.ma.us'}, {'email_address': 'philip.mclaughlin@mass.gov'}, {'email_address': 'john.murray2@mass.gov'}, {'email_address': 'brenna.oconnell@massmail.state.ma.us'}, {'email_address': 'patrick.oconnor2@massmail.state.ma.us'}, {'email_address': 'jonathan.oh@massmail.state.ma.us'}, {'email_address': 'belise.rutagengwa@mass.gov'}, {'email_address': 'mahnoor.sajjad@massmail.state.ma.us'}, {'email_address': 'benjamin.spaulding@massmail.state.ma.us'}, {'email_address': 'elias.tamagni@mass.gov'}, {'email_address': 'iris.wang@massmail.state.ma.us'}, {'email_address': 'chloe.warfford@mass.gov'}, {'email_address': 'james.wheeler@mass.gov'}, {'email_address': 'chenyi.zhu@massmail.state.ma.us'}, {'email_address': 'minghua.sun@mass.gov'}, {'email_address': 'tester@test.com'}, {'email_address': 'test1@test1.com'}, {'email_address': 'susan.aalpoel@state.ma.us'}, {'email_address': 'cheryl.little@mediacurrent.com'}], 'total_items': 385}\n"
     ]
    }
   ],
   "source": [
    "# \n",
    "# get emails list\n",
    "# \n",
    "import os\n",
    "from mailchimp3 import MailChimp\n",
    "\n",
    "try:\n",
    "    client = MailChimp('yriahi', '0f8b6badf9df7076ad26563ebd6b2761-us2', timeout=5.0)\n",
    "    members = client.lists.members.all('cdb710ff47', get_all=True, fields=\"members.email_address\")\n",
    "    print(members)\n",
    "except Exception as e:\n",
    "    print(e.request)\n",
    "    print(e.response)\n"
   ]
  },
  {
   "cell_type": "code",
   "execution_count": 64,
   "metadata": {},
   "outputs": [
    {
     "name": "stdout",
     "output_type": "stream",
     "text": [
      "204 <PreparedRequest [DELETE]>\n"
     ]
    }
   ],
   "source": [
    "# \n",
    "# delete a specific email address\n",
    "# \n",
    "email = \"megan.sampson@state.ma.us\"\n",
    "def mc_delete_emails(data_center, list_id, email):\n",
    "    # create md5 from email.\n",
    "    # md5 value is also available via mailchip api\n",
    "    # for simplicity we generate here\n",
    "    m = md5()\n",
    "    m.update(email.encode())\n",
    "    email_hash = m.hexdigest()\n",
    "    r = requests.delete(\"https://{}.api.mailchimp.com/3.0/lists/{}/members/{}\".format(data_center, list_id, email_hash),\\\n",
    "                     auth=HTTPBasicAuth('apikey', '{}'.format(mailchimp_api_key)))\n",
    "    \n",
    "    if not r.status_code == 204:\n",
    "        print(\"Failed to remove '{}' from target Mailchimp list.\".format(email))\n",
    "        print(r.status_code, r.request)\n",
    "    else:\n",
    "        print(r.status_code, r.request)\n",
    "        \n",
    "mc_delete_emails(data_center, list_id, email)"
   ]
  },
  {
   "cell_type": "code",
   "execution_count": 40,
   "metadata": {},
   "outputs": [
    {
     "name": "stdout",
     "output_type": "stream",
     "text": [
      "<PreparedRequest [POST]>\n",
      "<Response [400]>\n"
     ]
    }
   ],
   "source": [
    "# \n",
    "# post an email to list\n",
    "# \n",
    "\n",
    "import os\n",
    "from mailchimp3 import MailChimp\n",
    "\n",
    "try:\n",
    "    client = MailChimp('yriahi', '0f8b6badf9df7076ad26563ebd6b2761-us2', timeout=5.0)\n",
    "    client.lists.members.create('cdb710ff47', {\n",
    "        'email_address': 'riahi66@yahoo.com',\n",
    "        'status': 'subscribed',\n",
    "        'merge_fields': {\n",
    "            'FNAME': 'Salma',\n",
    "            'LNAME': 'Riahi',\n",
    "        },\n",
    "    })\n",
    "except Exception as e:\n",
    "    print(e.request)\n",
    "    print(e.response)\n"
   ]
  },
  {
   "cell_type": "code",
   "execution_count": 52,
   "metadata": {},
   "outputs": [
    {
     "name": "stdout",
     "output_type": "stream",
     "text": [
      "melissa.rossi@mass.gov\n",
      "andrew.larrimore@mass.gov\n",
      "linh.u.tran@mass.gov\n"
     ]
    }
   ],
   "source": [
    "# \n",
    "# test exclusions\n",
    "# \n",
    "import re\n",
    "\n",
    "exclusions = [\"localhost\", \"example\"]\n",
    "combined_exclusions = \"(\" + \")|(\".join(exclusions) + \")\"\n",
    "\n",
    "emails = [\"NULL\", \"user+1@localhost\", \"user+2@localhost\",\\\n",
    "          \"melissa.rossi@mass.gov\", \"andrew.larrimore@mass.gov\",\\\n",
    "          \"linh.u.tran@mass.gov\", \"youssef@example.com\"\n",
    "]\n",
    "for email_address in emails:\n",
    "    if email_address and \"@\" in email_address and not re.search(combined_exclusions, str(email_address)):\n",
    "        print(email_address) \n",
    "        "
   ]
  },
  {
   "cell_type": "code",
   "execution_count": 60,
   "metadata": {},
   "outputs": [
    {
     "name": "stdout",
     "output_type": "stream",
     "text": [
      "drush -r /var/www/html/massgov---------.test/docroot sqlq 'select mail from users_field_data'\n"
     ]
    }
   ],
   "source": [
    "target_envir = \"massgov---------.test\" \n",
    "print(\"drush -r /var/www/html/{}/docroot sqlq 'select mail from users_field_data'\".format(target_envir))\n"
   ]
  },
  {
   "cell_type": "code",
   "execution_count": null,
   "metadata": {
    "collapsed": true
   },
   "outputs": [],
   "source": []
  }
 ],
 "metadata": {
  "kernelspec": {
   "display_name": "Python 2",
   "language": "python",
   "name": "python2"
  },
  "language_info": {
   "codemirror_mode": {
    "name": "ipython",
    "version": 3
   },
   "file_extension": ".py",
   "mimetype": "text/x-python",
   "name": "python",
   "nbconvert_exporter": "python",
   "pygments_lexer": "ipython3",
   "version": "3.6.0"
  }
 },
 "nbformat": 4,
 "nbformat_minor": 2
}
